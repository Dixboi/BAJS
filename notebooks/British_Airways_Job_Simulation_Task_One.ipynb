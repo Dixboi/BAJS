{
  "cells": [
    {
      "cell_type": "markdown",
      "metadata": {
        "id": "_vvwEUI0JLFa"
      },
      "source": [
        "# Task 1\n",
        "\n",
        "---\n",
        "\n",
        "## Web scraping and analysis\n",
        "\n",
        "\n",
        "### Scraping data from Skytrax\n",
        "\n",
        "Visit [https://www.airlinequality.com] you can see that there is a lot of data there. For this task, we are only interested in reviews related to British Airways and the Airline itself.\n",
        "\n",
        "If you navigate to this link: [https://www.airlinequality.com/airline-reviews/british-airways] you will see this data. Now, we can use `Python` and `BeautifulSoup` to collect all the links to the reviews and then to collect the text data on each of the individual review links."
      ]
    },
    {
      "cell_type": "markdown",
      "source": [
        "## Importing of libraries"
      ],
      "metadata": {
        "id": "LOMXrYNKwK_l"
      }
    },
    {
      "cell_type": "code",
      "execution_count": null,
      "metadata": {
        "id": "bY-fXVTXJLFd"
      },
      "outputs": [],
      "source": [
        "import pandas as pd\n",
        "import numpy as np\n",
        "\n",
        "import requests\n",
        "from bs4 import BeautifulSoup\n",
        "\n",
        "import string"
      ]
    },
    {
      "cell_type": "code",
      "source": [
        "import nltk\n",
        "\n",
        "nltk.download('punkt')\n",
        "nltk.download('stopwords')\n",
        "nltk.download('wordnet')\n",
        "nltk.download('averaged_perceptron_tagger')\n",
        "nltk.download('vader_lexicon')\n",
        "\n",
        "from nltk.tokenize import sent_tokenize\n",
        "from nltk.tokenize import word_tokenize\n",
        "from nltk.probability import FreqDist\n",
        "from nltk.corpus import stopwords\n",
        "from nltk.stem.porter import PorterStemmer\n",
        "from nltk.stem.wordnet import WordNetLemmatizer\n",
        "from nltk.sentiment.vader import SentimentIntensityAnalyzer"
      ],
      "metadata": {
        "colab": {
          "base_uri": "https://localhost:8080/"
        },
        "id": "DzZkJgBCjWdp",
        "outputId": "3a69c7a1-a871-4903-e7f9-5c6902ea908b"
      },
      "execution_count": null,
      "outputs": [
        {
          "output_type": "stream",
          "name": "stderr",
          "text": [
            "[nltk_data] Downloading package punkt to /root/nltk_data...\n",
            "[nltk_data]   Unzipping tokenizers/punkt.zip.\n",
            "[nltk_data] Downloading package stopwords to /root/nltk_data...\n",
            "[nltk_data]   Unzipping corpora/stopwords.zip.\n",
            "[nltk_data] Downloading package wordnet to /root/nltk_data...\n",
            "[nltk_data] Downloading package averaged_perceptron_tagger to\n",
            "[nltk_data]     /root/nltk_data...\n",
            "[nltk_data]   Unzipping taggers/averaged_perceptron_tagger.zip.\n",
            "[nltk_data] Downloading package vader_lexicon to /root/nltk_data...\n"
          ]
        }
      ]
    },
    {
      "cell_type": "markdown",
      "source": [
        "# ETL"
      ],
      "metadata": {
        "id": "vVYKcnf3gKP4"
      }
    },
    {
      "cell_type": "markdown",
      "source": [
        "## Helper functions"
      ],
      "metadata": {
        "id": "BmIOSZ9EwTKl"
      }
    },
    {
      "cell_type": "code",
      "execution_count": null,
      "metadata": {
        "id": "HStPhakMJLFh"
      },
      "outputs": [],
      "source": [
        "def extract_webscrape(base_url=\"https://www.airlinequality.com/airline-reviews/british-airways\", page_size=10, pages=365):\n",
        "    '''\n",
        "    page_size --> pages\n",
        "    10 --> 365\n",
        "    20 --> 183\n",
        "    50 --> 73\n",
        "    100 --> 37\n",
        "    '''\n",
        "\n",
        "    header = []\n",
        "    review = []\n",
        "\n",
        "    # for i in range(1, pages + 1):\n",
        "    for i in range(1, pages + 1):\n",
        "\n",
        "        print(f\"Scraping page {i}\", end=\" | \")\n",
        "\n",
        "        # Create URL to collect links from paginated data\n",
        "        url = f\"{base_url}/page/{i}/?sortby=post_date%3ADesc&pagesize={page_size}\"\n",
        "\n",
        "        # Collect HTML data from this page\n",
        "        response = requests.get(url)\n",
        "\n",
        "        # Parse content\n",
        "        content = response.content\n",
        "        parsed_content = BeautifulSoup(content, 'html.parser')\n",
        "\n",
        "        # header\n",
        "        for h in parsed_content.find_all(\"h2\", {\"class\": \"text_header\"}):\n",
        "          header.append(h.get_text())\n",
        "\n",
        "        # review\n",
        "        for r in parsed_content.find_all(\"div\", {\"class\": \"text_content\"}):\n",
        "            review.append(r.get_text())\n",
        "\n",
        "    print()\n",
        "    print(f\"Page size: {page_size}\")\n",
        "    print(f\"Pages: {pages}\")\n",
        "    print()\n",
        "    print(f\"Total number of headers: {len(header)}\")\n",
        "    print(f\"Total number of reviews: {len(review)}\")\n",
        "\n",
        "    return header, review"
      ]
    },
    {
      "cell_type": "code",
      "source": [
        "def extract_to_df(name_of_columns=['Header', 'Review'], values=()):\n",
        "\n",
        "    data = {\n",
        "        name_of_columns[0]: values[0],\n",
        "        name_of_columns[1]: values[1]\n",
        "    }\n",
        "\n",
        "    df = pd.DataFrame(data)\n",
        "    return df"
      ],
      "metadata": {
        "id": "KVV7I5JxZdOf"
      },
      "execution_count": null,
      "outputs": []
    },
    {
      "cell_type": "code",
      "source": [
        "def transform_remove_verification(df, column):\n",
        "    df[column] = df[column].str.replace(\"Not Verified\", \"\").str.replace(\"Trip Verified\", \"\").str.replace(\"✅\", \"\").str.replace(\"|\", \"\").str.strip()\n",
        "    return df"
      ],
      "metadata": {
        "id": "WXGjUQsoloNa"
      },
      "execution_count": null,
      "outputs": []
    },
    {
      "cell_type": "code",
      "source": [
        "def transform_lower_case(df, columns):\n",
        "    df[columns[0]] = df[columns[0]].str.lower()\n",
        "    df[columns[1]] = df[columns[1]].str.lower()\n",
        "    return df"
      ],
      "metadata": {
        "id": "Xu_1rR9Xm-uo"
      },
      "execution_count": null,
      "outputs": []
    },
    {
      "cell_type": "code",
      "source": [
        "def transform_remove_punctuation(df, columns):\n",
        "    for punc in string.punctuation:\n",
        "        df[columns[0]] = df[columns[0]].str.replace(punc, \"\")\n",
        "        df[columns[1]] = df[columns[1]].str.replace(punc, \"\")\n",
        "    return df"
      ],
      "metadata": {
        "id": "Vp6JS6F2plr_"
      },
      "execution_count": null,
      "outputs": []
    },
    {
      "cell_type": "code",
      "source": [
        "def transform_token_stopw(df):\n",
        "    stop_words = stopwords.words('english')\n",
        "\n",
        "    tokenized_header = []\n",
        "    for header in df['Header']:\n",
        "        filtered_h = []\n",
        "        for h in word_tokenize(header, 'english'):\n",
        "            if h not in stop_words:\n",
        "                filtered_h.append(h)\n",
        "        tokenized_header.append(\" \".join(filtered_h))\n",
        "\n",
        "    tokenized_review = []\n",
        "    for review in df['Review']:\n",
        "        filtered_r = []\n",
        "        for r in word_tokenize(review, 'english'):\n",
        "            if r not in stop_words:\n",
        "                filtered_r.append(r)\n",
        "        tokenized_review.append(\" \".join(filtered_r))\n",
        "\n",
        "    df['Tokenized Header'] = tokenized_header\n",
        "    df['Tokenized Review'] = tokenized_review\n",
        "    return df"
      ],
      "metadata": {
        "id": "MriOdHFdm_6_"
      },
      "execution_count": null,
      "outputs": []
    },
    {
      "cell_type": "markdown",
      "source": [
        "## ETL process"
      ],
      "metadata": {
        "id": "6gDLv81BwWeM"
      }
    },
    {
      "cell_type": "code",
      "source": [
        "def etl():\n",
        "    # Extraction\n",
        "\n",
        "    print(\"E X T R A C T I O N ...\")\n",
        "\n",
        "    data = extract_webscrape(page_size=100, pages=37)\n",
        "    df = extract_to_df(values=data)\n",
        "\n",
        "    print()\n",
        "\n",
        "    # Transform\n",
        "\n",
        "    print(\"T R A N S F O R M ...\")\n",
        "\n",
        "    df = transform_remove_verification(df, 'Review')\n",
        "    df = transform_lower_case(df, ['Header', 'Review'])\n",
        "    df = transform_remove_punctuation(df, ['Header', 'Review'])\n",
        "    df = transform_token_stopw(df)\n",
        "\n",
        "    print()\n",
        "\n",
        "    # Load\n",
        "\n",
        "    print(\"L O A D ...\")\n",
        "    print(\"Converting into csv.\")\n",
        "    return df.to_csv('header_review.csv')"
      ],
      "metadata": {
        "id": "tqfWiFwibZIX"
      },
      "execution_count": null,
      "outputs": []
    },
    {
      "cell_type": "code",
      "source": [
        "etl()"
      ],
      "metadata": {
        "colab": {
          "base_uri": "https://localhost:8080/"
        },
        "id": "MS4Fr4Xtb2JX",
        "outputId": "eb9fcb06-5a20-4d96-9e8b-581470440aa7"
      },
      "execution_count": null,
      "outputs": [
        {
          "output_type": "stream",
          "name": "stdout",
          "text": [
            "E X T R A C T I O N ...\n",
            "Scraping page 1 | Scraping page 2 | Scraping page 3 | Scraping page 4 | Scraping page 5 | Scraping page 6 | Scraping page 7 | Scraping page 8 | Scraping page 9 | Scraping page 10 | Scraping page 11 | Scraping page 12 | Scraping page 13 | Scraping page 14 | Scraping page 15 | Scraping page 16 | Scraping page 17 | Scraping page 18 | Scraping page 19 | Scraping page 20 | Scraping page 21 | Scraping page 22 | Scraping page 23 | Scraping page 24 | Scraping page 25 | Scraping page 26 | Scraping page 27 | Scraping page 28 | Scraping page 29 | Scraping page 30 | Scraping page 31 | Scraping page 32 | Scraping page 33 | Scraping page 34 | Scraping page 35 | Scraping page 36 | Scraping page 37 | \n",
            "Page size: 100\n",
            "Pages: 37\n",
            "\n",
            "Total number of headers: 3650\n",
            "Total number of reviews: 3650\n",
            "\n",
            "T R A N S F O R M ...\n"
          ]
        },
        {
          "output_type": "stream",
          "name": "stderr",
          "text": [
            "<ipython-input-5-8bb07f38f117>:2: FutureWarning: The default value of regex will change from True to False in a future version. In addition, single character regular expressions will *not* be treated as literal strings when regex=True.\n",
            "  df[column] = df[column].str.replace(\"Not Verified\", \"\").str.replace(\"Trip Verified\", \"\").str.replace(\"✅\", \"\").str.replace(\"|\", \"\").str.strip()\n",
            "<ipython-input-7-efd2024df002>:3: FutureWarning: The default value of regex will change from True to False in a future version. In addition, single character regular expressions will *not* be treated as literal strings when regex=True.\n",
            "  df[columns[0]] = df[columns[0]].str.replace(punc, \"\")\n",
            "<ipython-input-7-efd2024df002>:4: FutureWarning: The default value of regex will change from True to False in a future version. In addition, single character regular expressions will *not* be treated as literal strings when regex=True.\n",
            "  df[columns[1]] = df[columns[1]].str.replace(punc, \"\")\n"
          ]
        },
        {
          "output_type": "stream",
          "name": "stdout",
          "text": [
            "\n",
            "L O A D ...\n",
            "Converting into csv.\n"
          ]
        }
      ]
    },
    {
      "cell_type": "markdown",
      "source": [
        "# ANALYSIS"
      ],
      "metadata": {
        "id": "lxyc5TBTgGrQ"
      }
    },
    {
      "cell_type": "markdown",
      "source": [
        "## EDA"
      ],
      "metadata": {
        "id": "-8cphpDvwizb"
      }
    },
    {
      "cell_type": "code",
      "source": [
        "df = pd.read_csv('header_review.csv')\n",
        "df.head(3)"
      ],
      "metadata": {
        "colab": {
          "base_uri": "https://localhost:8080/",
          "height": 143
        },
        "id": "6d_4p7OKs3-t",
        "outputId": "aacac0b4-3f82-428c-9158-9ab7c5d2f74e"
      },
      "execution_count": null,
      "outputs": [
        {
          "output_type": "execute_result",
          "data": {
            "text/plain": [
              "   Unnamed: 0                       Header  \\\n",
              "0           0  the worst airline in the uk   \n",
              "1           1          worst ba experience   \n",
              "2           2    the worst airline service   \n",
              "\n",
              "                                              Review       Tokenized Header  \\\n",
              "0  british airways has confirmed itself as the wo...       worst airline uk   \n",
              "1  worst ba experience i was supposed to fly out ...    worst ba experience   \n",
              "2  my daughter and i were denied boarding on our ...  worst airline service   \n",
              "\n",
              "                                    Tokenized Review  \n",
              "0  british airways confirmed worst airline uk las...  \n",
              "1  worst ba experience supposed fly italy 7 septe...  \n",
              "2  daughter denied boarding business class flight...  "
            ],
            "text/html": [
              "\n",
              "  <div id=\"df-2a1d2bfe-2d94-40f9-b5cc-9c4bfdf1666a\" class=\"colab-df-container\">\n",
              "    <div>\n",
              "<style scoped>\n",
              "    .dataframe tbody tr th:only-of-type {\n",
              "        vertical-align: middle;\n",
              "    }\n",
              "\n",
              "    .dataframe tbody tr th {\n",
              "        vertical-align: top;\n",
              "    }\n",
              "\n",
              "    .dataframe thead th {\n",
              "        text-align: right;\n",
              "    }\n",
              "</style>\n",
              "<table border=\"1\" class=\"dataframe\">\n",
              "  <thead>\n",
              "    <tr style=\"text-align: right;\">\n",
              "      <th></th>\n",
              "      <th>Unnamed: 0</th>\n",
              "      <th>Header</th>\n",
              "      <th>Review</th>\n",
              "      <th>Tokenized Header</th>\n",
              "      <th>Tokenized Review</th>\n",
              "    </tr>\n",
              "  </thead>\n",
              "  <tbody>\n",
              "    <tr>\n",
              "      <th>0</th>\n",
              "      <td>0</td>\n",
              "      <td>the worst airline in the uk</td>\n",
              "      <td>british airways has confirmed itself as the wo...</td>\n",
              "      <td>worst airline uk</td>\n",
              "      <td>british airways confirmed worst airline uk las...</td>\n",
              "    </tr>\n",
              "    <tr>\n",
              "      <th>1</th>\n",
              "      <td>1</td>\n",
              "      <td>worst ba experience</td>\n",
              "      <td>worst ba experience i was supposed to fly out ...</td>\n",
              "      <td>worst ba experience</td>\n",
              "      <td>worst ba experience supposed fly italy 7 septe...</td>\n",
              "    </tr>\n",
              "    <tr>\n",
              "      <th>2</th>\n",
              "      <td>2</td>\n",
              "      <td>the worst airline service</td>\n",
              "      <td>my daughter and i were denied boarding on our ...</td>\n",
              "      <td>worst airline service</td>\n",
              "      <td>daughter denied boarding business class flight...</td>\n",
              "    </tr>\n",
              "  </tbody>\n",
              "</table>\n",
              "</div>\n",
              "    <div class=\"colab-df-buttons\">\n",
              "\n",
              "  <div class=\"colab-df-container\">\n",
              "    <button class=\"colab-df-convert\" onclick=\"convertToInteractive('df-2a1d2bfe-2d94-40f9-b5cc-9c4bfdf1666a')\"\n",
              "            title=\"Convert this dataframe to an interactive table.\"\n",
              "            style=\"display:none;\">\n",
              "\n",
              "  <svg xmlns=\"http://www.w3.org/2000/svg\" height=\"24px\" viewBox=\"0 -960 960 960\">\n",
              "    <path d=\"M120-120v-720h720v720H120Zm60-500h600v-160H180v160Zm220 220h160v-160H400v160Zm0 220h160v-160H400v160ZM180-400h160v-160H180v160Zm440 0h160v-160H620v160ZM180-180h160v-160H180v160Zm440 0h160v-160H620v160Z\"/>\n",
              "  </svg>\n",
              "    </button>\n",
              "\n",
              "  <style>\n",
              "    .colab-df-container {\n",
              "      display:flex;\n",
              "      gap: 12px;\n",
              "    }\n",
              "\n",
              "    .colab-df-convert {\n",
              "      background-color: #E8F0FE;\n",
              "      border: none;\n",
              "      border-radius: 50%;\n",
              "      cursor: pointer;\n",
              "      display: none;\n",
              "      fill: #1967D2;\n",
              "      height: 32px;\n",
              "      padding: 0 0 0 0;\n",
              "      width: 32px;\n",
              "    }\n",
              "\n",
              "    .colab-df-convert:hover {\n",
              "      background-color: #E2EBFA;\n",
              "      box-shadow: 0px 1px 2px rgba(60, 64, 67, 0.3), 0px 1px 3px 1px rgba(60, 64, 67, 0.15);\n",
              "      fill: #174EA6;\n",
              "    }\n",
              "\n",
              "    .colab-df-buttons div {\n",
              "      margin-bottom: 4px;\n",
              "    }\n",
              "\n",
              "    [theme=dark] .colab-df-convert {\n",
              "      background-color: #3B4455;\n",
              "      fill: #D2E3FC;\n",
              "    }\n",
              "\n",
              "    [theme=dark] .colab-df-convert:hover {\n",
              "      background-color: #434B5C;\n",
              "      box-shadow: 0px 1px 3px 1px rgba(0, 0, 0, 0.15);\n",
              "      filter: drop-shadow(0px 1px 2px rgba(0, 0, 0, 0.3));\n",
              "      fill: #FFFFFF;\n",
              "    }\n",
              "  </style>\n",
              "\n",
              "    <script>\n",
              "      const buttonEl =\n",
              "        document.querySelector('#df-2a1d2bfe-2d94-40f9-b5cc-9c4bfdf1666a button.colab-df-convert');\n",
              "      buttonEl.style.display =\n",
              "        google.colab.kernel.accessAllowed ? 'block' : 'none';\n",
              "\n",
              "      async function convertToInteractive(key) {\n",
              "        const element = document.querySelector('#df-2a1d2bfe-2d94-40f9-b5cc-9c4bfdf1666a');\n",
              "        const dataTable =\n",
              "          await google.colab.kernel.invokeFunction('convertToInteractive',\n",
              "                                                    [key], {});\n",
              "        if (!dataTable) return;\n",
              "\n",
              "        const docLinkHtml = 'Like what you see? Visit the ' +\n",
              "          '<a target=\"_blank\" href=https://colab.research.google.com/notebooks/data_table.ipynb>data table notebook</a>'\n",
              "          + ' to learn more about interactive tables.';\n",
              "        element.innerHTML = '';\n",
              "        dataTable['output_type'] = 'display_data';\n",
              "        await google.colab.output.renderOutput(dataTable, element);\n",
              "        const docLink = document.createElement('div');\n",
              "        docLink.innerHTML = docLinkHtml;\n",
              "        element.appendChild(docLink);\n",
              "      }\n",
              "    </script>\n",
              "  </div>\n",
              "\n",
              "\n",
              "<div id=\"df-3d3db69a-8767-4d1e-99eb-6544c22cac41\">\n",
              "  <button class=\"colab-df-quickchart\" onclick=\"quickchart('df-3d3db69a-8767-4d1e-99eb-6544c22cac41')\"\n",
              "            title=\"Suggest charts.\"\n",
              "            style=\"display:none;\">\n",
              "\n",
              "<svg xmlns=\"http://www.w3.org/2000/svg\" height=\"24px\"viewBox=\"0 0 24 24\"\n",
              "     width=\"24px\">\n",
              "    <g>\n",
              "        <path d=\"M19 3H5c-1.1 0-2 .9-2 2v14c0 1.1.9 2 2 2h14c1.1 0 2-.9 2-2V5c0-1.1-.9-2-2-2zM9 17H7v-7h2v7zm4 0h-2V7h2v10zm4 0h-2v-4h2v4z\"/>\n",
              "    </g>\n",
              "</svg>\n",
              "  </button>\n",
              "\n",
              "<style>\n",
              "  .colab-df-quickchart {\n",
              "      --bg-color: #E8F0FE;\n",
              "      --fill-color: #1967D2;\n",
              "      --hover-bg-color: #E2EBFA;\n",
              "      --hover-fill-color: #174EA6;\n",
              "      --disabled-fill-color: #AAA;\n",
              "      --disabled-bg-color: #DDD;\n",
              "  }\n",
              "\n",
              "  [theme=dark] .colab-df-quickchart {\n",
              "      --bg-color: #3B4455;\n",
              "      --fill-color: #D2E3FC;\n",
              "      --hover-bg-color: #434B5C;\n",
              "      --hover-fill-color: #FFFFFF;\n",
              "      --disabled-bg-color: #3B4455;\n",
              "      --disabled-fill-color: #666;\n",
              "  }\n",
              "\n",
              "  .colab-df-quickchart {\n",
              "    background-color: var(--bg-color);\n",
              "    border: none;\n",
              "    border-radius: 50%;\n",
              "    cursor: pointer;\n",
              "    display: none;\n",
              "    fill: var(--fill-color);\n",
              "    height: 32px;\n",
              "    padding: 0;\n",
              "    width: 32px;\n",
              "  }\n",
              "\n",
              "  .colab-df-quickchart:hover {\n",
              "    background-color: var(--hover-bg-color);\n",
              "    box-shadow: 0 1px 2px rgba(60, 64, 67, 0.3), 0 1px 3px 1px rgba(60, 64, 67, 0.15);\n",
              "    fill: var(--button-hover-fill-color);\n",
              "  }\n",
              "\n",
              "  .colab-df-quickchart-complete:disabled,\n",
              "  .colab-df-quickchart-complete:disabled:hover {\n",
              "    background-color: var(--disabled-bg-color);\n",
              "    fill: var(--disabled-fill-color);\n",
              "    box-shadow: none;\n",
              "  }\n",
              "\n",
              "  .colab-df-spinner {\n",
              "    border: 2px solid var(--fill-color);\n",
              "    border-color: transparent;\n",
              "    border-bottom-color: var(--fill-color);\n",
              "    animation:\n",
              "      spin 1s steps(1) infinite;\n",
              "  }\n",
              "\n",
              "  @keyframes spin {\n",
              "    0% {\n",
              "      border-color: transparent;\n",
              "      border-bottom-color: var(--fill-color);\n",
              "      border-left-color: var(--fill-color);\n",
              "    }\n",
              "    20% {\n",
              "      border-color: transparent;\n",
              "      border-left-color: var(--fill-color);\n",
              "      border-top-color: var(--fill-color);\n",
              "    }\n",
              "    30% {\n",
              "      border-color: transparent;\n",
              "      border-left-color: var(--fill-color);\n",
              "      border-top-color: var(--fill-color);\n",
              "      border-right-color: var(--fill-color);\n",
              "    }\n",
              "    40% {\n",
              "      border-color: transparent;\n",
              "      border-right-color: var(--fill-color);\n",
              "      border-top-color: var(--fill-color);\n",
              "    }\n",
              "    60% {\n",
              "      border-color: transparent;\n",
              "      border-right-color: var(--fill-color);\n",
              "    }\n",
              "    80% {\n",
              "      border-color: transparent;\n",
              "      border-right-color: var(--fill-color);\n",
              "      border-bottom-color: var(--fill-color);\n",
              "    }\n",
              "    90% {\n",
              "      border-color: transparent;\n",
              "      border-bottom-color: var(--fill-color);\n",
              "    }\n",
              "  }\n",
              "</style>\n",
              "\n",
              "  <script>\n",
              "    async function quickchart(key) {\n",
              "      const quickchartButtonEl =\n",
              "        document.querySelector('#' + key + ' button');\n",
              "      quickchartButtonEl.disabled = true;  // To prevent multiple clicks.\n",
              "      quickchartButtonEl.classList.add('colab-df-spinner');\n",
              "      try {\n",
              "        const charts = await google.colab.kernel.invokeFunction(\n",
              "            'suggestCharts', [key], {});\n",
              "      } catch (error) {\n",
              "        console.error('Error during call to suggestCharts:', error);\n",
              "      }\n",
              "      quickchartButtonEl.classList.remove('colab-df-spinner');\n",
              "      quickchartButtonEl.classList.add('colab-df-quickchart-complete');\n",
              "    }\n",
              "    (() => {\n",
              "      let quickchartButtonEl =\n",
              "        document.querySelector('#df-3d3db69a-8767-4d1e-99eb-6544c22cac41 button');\n",
              "      quickchartButtonEl.style.display =\n",
              "        google.colab.kernel.accessAllowed ? 'block' : 'none';\n",
              "    })();\n",
              "  </script>\n",
              "</div>\n",
              "    </div>\n",
              "  </div>\n"
            ]
          },
          "metadata": {},
          "execution_count": 11
        }
      ]
    },
    {
      "cell_type": "code",
      "source": [
        "df.info()"
      ],
      "metadata": {
        "colab": {
          "base_uri": "https://localhost:8080/"
        },
        "id": "aUWqnrE1wl1P",
        "outputId": "6c67e1e0-9c7e-4789-ad58-2559a77f3c94"
      },
      "execution_count": null,
      "outputs": [
        {
          "output_type": "stream",
          "name": "stdout",
          "text": [
            "<class 'pandas.core.frame.DataFrame'>\n",
            "RangeIndex: 3650 entries, 0 to 3649\n",
            "Data columns (total 5 columns):\n",
            " #   Column            Non-Null Count  Dtype \n",
            "---  ------            --------------  ----- \n",
            " 0   Unnamed: 0        3650 non-null   int64 \n",
            " 1   Header            3650 non-null   object\n",
            " 2   Review            3650 non-null   object\n",
            " 3   Tokenized Header  3650 non-null   object\n",
            " 4   Tokenized Review  3650 non-null   object\n",
            "dtypes: int64(1), object(4)\n",
            "memory usage: 142.7+ KB\n"
          ]
        }
      ]
    },
    {
      "cell_type": "markdown",
      "source": [
        "## Feature Engineering"
      ],
      "metadata": {
        "id": "7SmiBgF3wqK8"
      }
    },
    {
      "cell_type": "markdown",
      "source": [
        "### Part of Speech (POS) Tagging"
      ],
      "metadata": {
        "id": "87HUdQVjxI5c"
      }
    },
    {
      "cell_type": "code",
      "source": [
        "pos_review = []\n",
        "\n",
        "for review in df['Tokenized Review']:\n",
        "    pos_review.append(nltk.pos_tag(word_tokenize(review)))\n",
        "\n",
        "df['POS Review'] = pos_review"
      ],
      "metadata": {
        "id": "IHqZfX34xW79"
      },
      "execution_count": null,
      "outputs": []
    },
    {
      "cell_type": "code",
      "source": [
        "pos_review_filtered = []\n",
        "\n",
        "target_pos = ['JJR', 'JJS', 'RB', 'RBR', 'RBS', 'VB', 'VBD', 'VBG', 'VBN', 'VBP', 'VBZ']\n",
        "\n",
        "for review in df['POS Review']:\n",
        "    p = []\n",
        "    for pos_review in review:\n",
        "        if pos_review[1] in target_pos:\n",
        "            p.append(pos_review[0])\n",
        "    pos_review_filtered.append(\" \".join(p))\n",
        "\n",
        "df['POS Review Filtered'] = pos_review_filtered"
      ],
      "metadata": {
        "id": "7jIDOHR0TOw2"
      },
      "execution_count": null,
      "outputs": []
    },
    {
      "cell_type": "markdown",
      "source": [
        "### Sentiments"
      ],
      "metadata": {
        "id": "Q-aFlRMP3FOy"
      }
    },
    {
      "cell_type": "code",
      "source": [
        "def sentiment_analyze(text):\n",
        "    score = SentimentIntensityAnalyzer().polarity_scores(text)\n",
        "    neg = score['neg']\n",
        "    pos = score['pos']\n",
        "    if max(neg, pos) == neg: return \"Negative\", neg\n",
        "    if max(neg, pos) == pos: return \"Positive\", pos"
      ],
      "metadata": {
        "id": "LjsZ4yjb3IKi"
      },
      "execution_count": null,
      "outputs": []
    },
    {
      "cell_type": "code",
      "source": [
        "sentiment_r = []\n",
        "\n",
        "for review in df['POS Review Filtered']:\n",
        "    sentiment_r.append(sentiment_analyze(review))\n",
        "\n",
        "df['Sentiment Review'] = sentiment_r"
      ],
      "metadata": {
        "id": "qTWcrGxx3TXo"
      },
      "execution_count": null,
      "outputs": []
    },
    {
      "cell_type": "code",
      "source": [
        "df.head(3)"
      ],
      "metadata": {
        "colab": {
          "base_uri": "https://localhost:8080/",
          "height": 265
        },
        "id": "LK-2NoSINtPo",
        "outputId": "b455fe2a-26a0-481c-953e-d083235058e8"
      },
      "execution_count": null,
      "outputs": [
        {
          "output_type": "execute_result",
          "data": {
            "text/plain": [
              "   Unnamed: 0                       Header  \\\n",
              "0           0  the worst airline in the uk   \n",
              "1           1          worst ba experience   \n",
              "2           2    the worst airline service   \n",
              "\n",
              "                                              Review       Tokenized Header  \\\n",
              "0  british airways has confirmed itself as the wo...       worst airline uk   \n",
              "1  worst ba experience i was supposed to fly out ...    worst ba experience   \n",
              "2  my daughter and i were denied boarding on our ...  worst airline service   \n",
              "\n",
              "                                    Tokenized Review  \\\n",
              "0  british airways confirmed worst airline uk las...   \n",
              "1  worst ba experience supposed fly italy 7 septe...   \n",
              "2  daughter denied boarding business class flight...   \n",
              "\n",
              "                                          POS Review  \\\n",
              "0  [(british, JJ), (airways, NNS), (confirmed, VB...   \n",
              "1  [(worst, JJS), (ba, NN), (experience, NN), (su...   \n",
              "2  [(daughter, NN), (denied, VBD), (boarding, VBG...   \n",
              "\n",
              "                                 POS Review Filtered   Sentiment Review  \n",
              "0                           confirmed worst happened  (Negative, 0.672)  \n",
              "1  worst supposed italy arrived already checkedin...  (Negative, 0.176)  \n",
              "2  denied boarding heathrow march given denied bo...   (Negative, 0.21)  "
            ],
            "text/html": [
              "\n",
              "  <div id=\"df-49f471a7-a55a-4b37-be30-0aec6768ba09\" class=\"colab-df-container\">\n",
              "    <div>\n",
              "<style scoped>\n",
              "    .dataframe tbody tr th:only-of-type {\n",
              "        vertical-align: middle;\n",
              "    }\n",
              "\n",
              "    .dataframe tbody tr th {\n",
              "        vertical-align: top;\n",
              "    }\n",
              "\n",
              "    .dataframe thead th {\n",
              "        text-align: right;\n",
              "    }\n",
              "</style>\n",
              "<table border=\"1\" class=\"dataframe\">\n",
              "  <thead>\n",
              "    <tr style=\"text-align: right;\">\n",
              "      <th></th>\n",
              "      <th>Unnamed: 0</th>\n",
              "      <th>Header</th>\n",
              "      <th>Review</th>\n",
              "      <th>Tokenized Header</th>\n",
              "      <th>Tokenized Review</th>\n",
              "      <th>POS Review</th>\n",
              "      <th>POS Review Filtered</th>\n",
              "      <th>Sentiment Review</th>\n",
              "    </tr>\n",
              "  </thead>\n",
              "  <tbody>\n",
              "    <tr>\n",
              "      <th>0</th>\n",
              "      <td>0</td>\n",
              "      <td>the worst airline in the uk</td>\n",
              "      <td>british airways has confirmed itself as the wo...</td>\n",
              "      <td>worst airline uk</td>\n",
              "      <td>british airways confirmed worst airline uk las...</td>\n",
              "      <td>[(british, JJ), (airways, NNS), (confirmed, VB...</td>\n",
              "      <td>confirmed worst happened</td>\n",
              "      <td>(Negative, 0.672)</td>\n",
              "    </tr>\n",
              "    <tr>\n",
              "      <th>1</th>\n",
              "      <td>1</td>\n",
              "      <td>worst ba experience</td>\n",
              "      <td>worst ba experience i was supposed to fly out ...</td>\n",
              "      <td>worst ba experience</td>\n",
              "      <td>worst ba experience supposed fly italy 7 septe...</td>\n",
              "      <td>[(worst, JJS), (ba, NN), (experience, NN), (su...</td>\n",
              "      <td>worst supposed italy arrived already checkedin...</td>\n",
              "      <td>(Negative, 0.176)</td>\n",
              "    </tr>\n",
              "    <tr>\n",
              "      <th>2</th>\n",
              "      <td>2</td>\n",
              "      <td>the worst airline service</td>\n",
              "      <td>my daughter and i were denied boarding on our ...</td>\n",
              "      <td>worst airline service</td>\n",
              "      <td>daughter denied boarding business class flight...</td>\n",
              "      <td>[(daughter, NN), (denied, VBD), (boarding, VBG...</td>\n",
              "      <td>denied boarding heathrow march given denied bo...</td>\n",
              "      <td>(Negative, 0.21)</td>\n",
              "    </tr>\n",
              "  </tbody>\n",
              "</table>\n",
              "</div>\n",
              "    <div class=\"colab-df-buttons\">\n",
              "\n",
              "  <div class=\"colab-df-container\">\n",
              "    <button class=\"colab-df-convert\" onclick=\"convertToInteractive('df-49f471a7-a55a-4b37-be30-0aec6768ba09')\"\n",
              "            title=\"Convert this dataframe to an interactive table.\"\n",
              "            style=\"display:none;\">\n",
              "\n",
              "  <svg xmlns=\"http://www.w3.org/2000/svg\" height=\"24px\" viewBox=\"0 -960 960 960\">\n",
              "    <path d=\"M120-120v-720h720v720H120Zm60-500h600v-160H180v160Zm220 220h160v-160H400v160Zm0 220h160v-160H400v160ZM180-400h160v-160H180v160Zm440 0h160v-160H620v160ZM180-180h160v-160H180v160Zm440 0h160v-160H620v160Z\"/>\n",
              "  </svg>\n",
              "    </button>\n",
              "\n",
              "  <style>\n",
              "    .colab-df-container {\n",
              "      display:flex;\n",
              "      gap: 12px;\n",
              "    }\n",
              "\n",
              "    .colab-df-convert {\n",
              "      background-color: #E8F0FE;\n",
              "      border: none;\n",
              "      border-radius: 50%;\n",
              "      cursor: pointer;\n",
              "      display: none;\n",
              "      fill: #1967D2;\n",
              "      height: 32px;\n",
              "      padding: 0 0 0 0;\n",
              "      width: 32px;\n",
              "    }\n",
              "\n",
              "    .colab-df-convert:hover {\n",
              "      background-color: #E2EBFA;\n",
              "      box-shadow: 0px 1px 2px rgba(60, 64, 67, 0.3), 0px 1px 3px 1px rgba(60, 64, 67, 0.15);\n",
              "      fill: #174EA6;\n",
              "    }\n",
              "\n",
              "    .colab-df-buttons div {\n",
              "      margin-bottom: 4px;\n",
              "    }\n",
              "\n",
              "    [theme=dark] .colab-df-convert {\n",
              "      background-color: #3B4455;\n",
              "      fill: #D2E3FC;\n",
              "    }\n",
              "\n",
              "    [theme=dark] .colab-df-convert:hover {\n",
              "      background-color: #434B5C;\n",
              "      box-shadow: 0px 1px 3px 1px rgba(0, 0, 0, 0.15);\n",
              "      filter: drop-shadow(0px 1px 2px rgba(0, 0, 0, 0.3));\n",
              "      fill: #FFFFFF;\n",
              "    }\n",
              "  </style>\n",
              "\n",
              "    <script>\n",
              "      const buttonEl =\n",
              "        document.querySelector('#df-49f471a7-a55a-4b37-be30-0aec6768ba09 button.colab-df-convert');\n",
              "      buttonEl.style.display =\n",
              "        google.colab.kernel.accessAllowed ? 'block' : 'none';\n",
              "\n",
              "      async function convertToInteractive(key) {\n",
              "        const element = document.querySelector('#df-49f471a7-a55a-4b37-be30-0aec6768ba09');\n",
              "        const dataTable =\n",
              "          await google.colab.kernel.invokeFunction('convertToInteractive',\n",
              "                                                    [key], {});\n",
              "        if (!dataTable) return;\n",
              "\n",
              "        const docLinkHtml = 'Like what you see? Visit the ' +\n",
              "          '<a target=\"_blank\" href=https://colab.research.google.com/notebooks/data_table.ipynb>data table notebook</a>'\n",
              "          + ' to learn more about interactive tables.';\n",
              "        element.innerHTML = '';\n",
              "        dataTable['output_type'] = 'display_data';\n",
              "        await google.colab.output.renderOutput(dataTable, element);\n",
              "        const docLink = document.createElement('div');\n",
              "        docLink.innerHTML = docLinkHtml;\n",
              "        element.appendChild(docLink);\n",
              "      }\n",
              "    </script>\n",
              "  </div>\n",
              "\n",
              "\n",
              "<div id=\"df-df337fec-92d9-494e-9257-a17c1eb91a25\">\n",
              "  <button class=\"colab-df-quickchart\" onclick=\"quickchart('df-df337fec-92d9-494e-9257-a17c1eb91a25')\"\n",
              "            title=\"Suggest charts.\"\n",
              "            style=\"display:none;\">\n",
              "\n",
              "<svg xmlns=\"http://www.w3.org/2000/svg\" height=\"24px\"viewBox=\"0 0 24 24\"\n",
              "     width=\"24px\">\n",
              "    <g>\n",
              "        <path d=\"M19 3H5c-1.1 0-2 .9-2 2v14c0 1.1.9 2 2 2h14c1.1 0 2-.9 2-2V5c0-1.1-.9-2-2-2zM9 17H7v-7h2v7zm4 0h-2V7h2v10zm4 0h-2v-4h2v4z\"/>\n",
              "    </g>\n",
              "</svg>\n",
              "  </button>\n",
              "\n",
              "<style>\n",
              "  .colab-df-quickchart {\n",
              "      --bg-color: #E8F0FE;\n",
              "      --fill-color: #1967D2;\n",
              "      --hover-bg-color: #E2EBFA;\n",
              "      --hover-fill-color: #174EA6;\n",
              "      --disabled-fill-color: #AAA;\n",
              "      --disabled-bg-color: #DDD;\n",
              "  }\n",
              "\n",
              "  [theme=dark] .colab-df-quickchart {\n",
              "      --bg-color: #3B4455;\n",
              "      --fill-color: #D2E3FC;\n",
              "      --hover-bg-color: #434B5C;\n",
              "      --hover-fill-color: #FFFFFF;\n",
              "      --disabled-bg-color: #3B4455;\n",
              "      --disabled-fill-color: #666;\n",
              "  }\n",
              "\n",
              "  .colab-df-quickchart {\n",
              "    background-color: var(--bg-color);\n",
              "    border: none;\n",
              "    border-radius: 50%;\n",
              "    cursor: pointer;\n",
              "    display: none;\n",
              "    fill: var(--fill-color);\n",
              "    height: 32px;\n",
              "    padding: 0;\n",
              "    width: 32px;\n",
              "  }\n",
              "\n",
              "  .colab-df-quickchart:hover {\n",
              "    background-color: var(--hover-bg-color);\n",
              "    box-shadow: 0 1px 2px rgba(60, 64, 67, 0.3), 0 1px 3px 1px rgba(60, 64, 67, 0.15);\n",
              "    fill: var(--button-hover-fill-color);\n",
              "  }\n",
              "\n",
              "  .colab-df-quickchart-complete:disabled,\n",
              "  .colab-df-quickchart-complete:disabled:hover {\n",
              "    background-color: var(--disabled-bg-color);\n",
              "    fill: var(--disabled-fill-color);\n",
              "    box-shadow: none;\n",
              "  }\n",
              "\n",
              "  .colab-df-spinner {\n",
              "    border: 2px solid var(--fill-color);\n",
              "    border-color: transparent;\n",
              "    border-bottom-color: var(--fill-color);\n",
              "    animation:\n",
              "      spin 1s steps(1) infinite;\n",
              "  }\n",
              "\n",
              "  @keyframes spin {\n",
              "    0% {\n",
              "      border-color: transparent;\n",
              "      border-bottom-color: var(--fill-color);\n",
              "      border-left-color: var(--fill-color);\n",
              "    }\n",
              "    20% {\n",
              "      border-color: transparent;\n",
              "      border-left-color: var(--fill-color);\n",
              "      border-top-color: var(--fill-color);\n",
              "    }\n",
              "    30% {\n",
              "      border-color: transparent;\n",
              "      border-left-color: var(--fill-color);\n",
              "      border-top-color: var(--fill-color);\n",
              "      border-right-color: var(--fill-color);\n",
              "    }\n",
              "    40% {\n",
              "      border-color: transparent;\n",
              "      border-right-color: var(--fill-color);\n",
              "      border-top-color: var(--fill-color);\n",
              "    }\n",
              "    60% {\n",
              "      border-color: transparent;\n",
              "      border-right-color: var(--fill-color);\n",
              "    }\n",
              "    80% {\n",
              "      border-color: transparent;\n",
              "      border-right-color: var(--fill-color);\n",
              "      border-bottom-color: var(--fill-color);\n",
              "    }\n",
              "    90% {\n",
              "      border-color: transparent;\n",
              "      border-bottom-color: var(--fill-color);\n",
              "    }\n",
              "  }\n",
              "</style>\n",
              "\n",
              "  <script>\n",
              "    async function quickchart(key) {\n",
              "      const quickchartButtonEl =\n",
              "        document.querySelector('#' + key + ' button');\n",
              "      quickchartButtonEl.disabled = true;  // To prevent multiple clicks.\n",
              "      quickchartButtonEl.classList.add('colab-df-spinner');\n",
              "      try {\n",
              "        const charts = await google.colab.kernel.invokeFunction(\n",
              "            'suggestCharts', [key], {});\n",
              "      } catch (error) {\n",
              "        console.error('Error during call to suggestCharts:', error);\n",
              "      }\n",
              "      quickchartButtonEl.classList.remove('colab-df-spinner');\n",
              "      quickchartButtonEl.classList.add('colab-df-quickchart-complete');\n",
              "    }\n",
              "    (() => {\n",
              "      let quickchartButtonEl =\n",
              "        document.querySelector('#df-df337fec-92d9-494e-9257-a17c1eb91a25 button');\n",
              "      quickchartButtonEl.style.display =\n",
              "        google.colab.kernel.accessAllowed ? 'block' : 'none';\n",
              "    })();\n",
              "  </script>\n",
              "</div>\n",
              "    </div>\n",
              "  </div>\n"
            ]
          },
          "metadata": {},
          "execution_count": 17
        }
      ]
    },
    {
      "cell_type": "markdown",
      "source": [
        "### Frequency Distribution"
      ],
      "metadata": {
        "id": "qOsrEzf0YAL0"
      }
    },
    {
      "cell_type": "code",
      "source": [
        "pos_adverbs = []\n",
        "pos_verbs = []\n",
        "pos_adjectives = []\n",
        "\n",
        "for content in df['POS Review']:\n",
        "    for tag in content:\n",
        "        if tag[1] in target_pos:\n",
        "            if tag[1].startswith('R'):\n",
        "              pos_adverbs.append(tag[0])\n",
        "            elif tag[1].startswith('V'):\n",
        "              pos_verbs.append(tag[0])\n",
        "            elif tag[1].startswith('J'):\n",
        "              pos_adjectives.append(tag[0])\n",
        "\n",
        "print(f'Adverbs: {pos_adverbs[:10]}, count: {len(pos_adverbs)}')\n",
        "print(f'Verbs: {pos_verbs[:10]}, count: {len(pos_verbs)}')\n",
        "print(f'Adjectives: {pos_adjectives[:10]}, count: {len(pos_adjectives)}')"
      ],
      "metadata": {
        "colab": {
          "base_uri": "https://localhost:8080/"
        },
        "id": "GOV6h8beYCDs",
        "outputId": "79cc6704-4cb9-4e36-a47e-3c70ce2fdd80"
      },
      "execution_count": null,
      "outputs": [
        {
          "output_type": "stream",
          "name": "stdout",
          "text": [
            "Adverbs: ['italy', 'already', 'however', 'later', 'back', 'still', 'back', 'south', 'first', 'still'], count: 23229\n",
            "Verbs: ['confirmed', 'happened', 'supposed', 'arrived', 'checkedin', 'online', 'evening', 'boarding', 'told', 'connecting'], count: 61810\n",
            "Adjectives: ['worst', 'worst', 'best', 'best', 'least', 'better', 'worst', 'worst', 'least', 'worse'], count: 2239\n"
          ]
        }
      ]
    },
    {
      "cell_type": "code",
      "source": [
        "sentiments = []\n",
        "sentiments_score = []\n",
        "\n",
        "for sentiment in df['Sentiment Review']:\n",
        "    sentiments.append(sentiment[0])\n",
        "    sentiments_score.append(sentiment[1])\n",
        "\n",
        "print(sentiments[:3])\n",
        "print(sentiments_score[:3])"
      ],
      "metadata": {
        "colab": {
          "base_uri": "https://localhost:8080/"
        },
        "id": "iQMqwg_ObMq7",
        "outputId": "55b2329f-9b65-403f-9ab5-b49544a3a44b"
      },
      "execution_count": null,
      "outputs": [
        {
          "output_type": "stream",
          "name": "stdout",
          "text": [
            "['Negative', 'Negative', 'Negative']\n",
            "[0.672, 0.176, 0.21]\n"
          ]
        }
      ]
    },
    {
      "cell_type": "markdown",
      "source": [
        "# Converting to CSV for Visualization"
      ],
      "metadata": {
        "id": "Qr3_-f2kcGa7"
      }
    },
    {
      "cell_type": "code",
      "source": [
        "adverbs = pd.DataFrame(pos_adverbs, columns=['Adverbs'])\n",
        "verbs = pd.DataFrame(pos_verbs, columns=['Verbs'])\n",
        "adjectives = pd.DataFrame(pos_adjectives, columns=['Adjectives'])\n",
        "sentiment = pd.DataFrame({\n",
        "    'Sentiment': sentiments,\n",
        "    'Score': sentiments_score\n",
        "})\n",
        "\n",
        "adverbs.to_csv('adverbs.csv')\n",
        "verbs.to_csv('verbs.csv')\n",
        "adjectives.to_csv('adjectives.csv')\n",
        "sentiment.to_csv('sentiment.csv')"
      ],
      "metadata": {
        "id": "JbWSqhZacBuj"
      },
      "execution_count": null,
      "outputs": []
    }
  ],
  "metadata": {
    "kernelspec": {
      "display_name": "Python 3.9.13 ('venv': venv)",
      "language": "python",
      "name": "python3"
    },
    "language_info": {
      "codemirror_mode": {
        "name": "ipython",
        "version": 3
      },
      "file_extension": ".py",
      "mimetype": "text/x-python",
      "name": "python",
      "nbconvert_exporter": "python",
      "pygments_lexer": "ipython3",
      "version": "3.9.13"
    },
    "orig_nbformat": 4,
    "vscode": {
      "interpreter": {
        "hash": "4f7924c4c56b083e0e50eadfe7ef592a7a8ef70df33a0047f82280e6be1afe15"
      }
    },
    "colab": {
      "provenance": []
    }
  },
  "nbformat": 4,
  "nbformat_minor": 0
}